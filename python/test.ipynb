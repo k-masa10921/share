{
 "metadata": {
  "language_info": {
   "codemirror_mode": {
    "name": "ipython",
    "version": 3
   },
   "file_extension": ".py",
   "mimetype": "text/x-python",
   "name": "python",
   "nbconvert_exporter": "python",
   "pygments_lexer": "ipython3",
   "version": "3.7.6-final"
  },
  "orig_nbformat": 2,
  "kernelspec": {
   "name": "python3",
   "display_name": "Python 3.7.6 64-bit (conda)",
   "metadata": {
    "interpreter": {
     "hash": "3fc426004f591b70271101b64aa59689b0da4271ccdbd03623c9f6f51e37efbc"
    }
   }
  }
 },
 "nbformat": 4,
 "nbformat_minor": 2,
 "cells": [
  {
   "source": [
    "import openpyxl"
   ],
   "cell_type": "code",
   "metadata": {},
   "execution_count": 104,
   "outputs": []
  },
  {
   "source": [
    "sheet = wb[\"test\"]\n",
    "print(type(sheet))"
   ],
   "cell_type": "code",
   "metadata": {},
   "execution_count": 105,
   "outputs": [
    {
     "output_type": "stream",
     "name": "stdout",
     "text": [
      "<class 'openpyxl.worksheet.worksheet.Worksheet'>\n"
     ]
    }
   ]
  },
  {
   "cell_type": "code",
   "execution_count": 106,
   "metadata": {},
   "outputs": [
    {
     "output_type": "stream",
     "name": "stdout",
     "text": [
      "<class 'openpyxl.workbook.workbook.Workbook'>\n['test', 'ケアタウン', 'けあ太郎', 'フィットネスタウン', '医療の王様', 'リハビリの王様', '系統-けあ太郎', '系統-フィットネスタウン', '系統-医療の王様', '系統-リハビリの王様']\n"
     ]
    }
   ],
   "source": [
    "wb = openpyxl.load_workbook(\"test.xlsx\")\n",
    "print(type(wb))\n",
    "print(wb.sheetnames)"
   ]
  },
  {
   "cell_type": "code",
   "execution_count": 107,
   "metadata": {},
   "outputs": [
    {
     "output_type": "stream",
     "name": "stdout",
     "text": [
      "<class 'openpyxl.cell.cell.Cell'>\nhttps://iryoking.com/shopbrand/001/Y/\n"
     ]
    }
   ],
   "source": [
    "cell=sheet[\"A1\"]\n",
    "print(type(cell))\n",
    "print(cell.value)"
   ]
  },
  {
   "cell_type": "code",
   "execution_count": 108,
   "metadata": {},
   "outputs": [
    {
     "output_type": "stream",
     "name": "stdout",
     "text": [
      "None\n"
     ]
    }
   ],
   "source": [
    "    cell= sheet.cell(row=1,column=2)\n",
    "    print(cell.value)\n",
    "    d = []\n"
   ]
  },
  {
   "cell_type": "code",
   "execution_count": null,
   "metadata": {},
   "outputs": [],
   "source": []
  }
 ]
}